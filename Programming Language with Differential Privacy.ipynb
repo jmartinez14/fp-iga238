{
 "cells": [
  {
   "cell_type": "markdown",
   "metadata": {},
   "source": [
    "## Intro to Typing\n",
    "\n",
    "\n",
    "A type system allows you to define certain constraints about variables in a program.  For example, 1 could be of type integer, real, or natural (this list is not exhaustive).  Other potential types include Booleans, strings (a type that represents sequences of characters), and entire classes of types called functions.  In python, we can look at the types of some built in constants."
   ]
  },
  {
   "cell_type": "code",
   "execution_count": 7,
   "metadata": {
    "collapsed": false
   },
   "outputs": [
    {
     "name": "stdout",
     "output_type": "stream",
     "text": [
      "<type 'str'>\n",
      "<type 'int'>\n"
     ]
    }
   ],
   "source": [
    "print type(\"hello world\")\n",
    "print type(100)"
   ]
  },
  {
   "cell_type": "markdown",
   "metadata": {},
   "source": [
    "A function maps elements of the same type in a domain to a range of elements of another type (same or different).Consider the program that reports whether or not the input is equal to one:\n",
    "\n",
    "**is_one** is a program that takes the variable x as input, if x is equal to 1 output **true** otherwise output **false**\n",
    "\n",
    "Now let's look at a code implementation of this."
   ]
  },
  {
   "cell_type": "code",
   "execution_count": 16,
   "metadata": {
    "collapsed": false
   },
   "outputs": [
    {
     "ename": "SyntaxError",
     "evalue": "future feature typing is not defined (<ipython-input-16-0678ee1aea5f>, line 2)",
     "output_type": "error",
     "traceback": [
      "\u001b[1;36m  File \u001b[1;32m\"<ipython-input-16-0678ee1aea5f>\"\u001b[1;36m, line \u001b[1;32m2\u001b[0m\n\u001b[1;33m    from __future__ import typing\u001b[0m\n\u001b[1;31mSyntaxError\u001b[0m\u001b[1;31m:\u001b[0m future feature typing is not defined\n"
     ]
    }
   ],
   "source": [
    "# now let's code this up\n",
    "from __future__ import typing\n",
    "\n",
    "def is_one(x):\n",
    "    if x == 1:\n",
    "        return True\n",
    "    else:\n",
    "        return False\n",
    "print is_one(1)\n",
    "print is_one(2)\n",
    "print is_one(\"hello world\")"
   ]
  },
  {
   "cell_type": "code",
   "execution_count": null,
   "metadata": {
    "collapsed": true
   },
   "outputs": [],
   "source": []
  }
 ],
 "metadata": {
  "kernelspec": {
   "display_name": "Python 2",
   "language": "python",
   "name": "python2"
  },
  "language_info": {
   "codemirror_mode": {
    "name": "ipython",
    "version": 2
   },
   "file_extension": ".py",
   "mimetype": "text/x-python",
   "name": "python",
   "nbconvert_exporter": "python",
   "pygments_lexer": "ipython2",
   "version": "2.7.11"
  }
 },
 "nbformat": 4,
 "nbformat_minor": 0
}
